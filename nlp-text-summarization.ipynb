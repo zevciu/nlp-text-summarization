{
  "nbformat": 4,
  "nbformat_minor": 0,
  "metadata": {
    "colab": {
      "name": "tweak_nlp_text_summarization.ipynb",
      "provenance": [],
      "collapsed_sections": []
    },
    "kernelspec": {
      "name": "python3",
      "display_name": "Python 3"
    },
    "language_info": {
      "name": "python"
    }
  },
  "cells": [
    {
      "cell_type": "markdown",
      "source": [
        "# Sumaryzacja długich tekstów\n",
        "\n",
        "Celem niniejszego projektu jest stworzenie sumaryzatora, który będzie w stanie dokonać sumaryzacji długich tekstów w języku angielskim (np. postów na blogach, artykułów prasowych, itp.). \n",
        "Program dokona sumaryzacji na podstawie ekstrakcji (extraction-based summarisation) lub abstrakcji (abstraction-based summarisation) w zależności od wyboru użytkownika. Gotowe podsumowanie w języku angielskim zostanie dodatkowo przełumaczone na język polski. Wyniki zostaną eksportowane do zewnętrznego pliku z rozszerzeniem .txt.\n",
        "\n",
        "Do zrealizowania tego celu zostaną wykorzystane trzy wstępnie-przeszkolone modele NLP:\n",
        "\n",
        "1.  Pegasus-XSum (podejście na podstawie abstrakcji)\n",
        "2.  Distilbart CNN (podejście na podstawie ekstrakcji)\n",
        "3.  OPUS Tatoeba English-Polish (tłumaczenie na j. polski)\n"
      ],
      "metadata": {
        "id": "Z8zjfsvERSmU"
      }
    },
    {
      "cell_type": "code",
      "execution_count": null,
      "metadata": {
        "id": "PCj9X2E-KpIF"
      },
      "outputs": [],
      "source": [
        "#!pip install torch==1.8.2 torchvision==0.9.2 torchaudio==0.8.2 --extra-index-url https://download.pytorch.org/whl/lts/1.8/cpu\n",
        "#!pip install sentencepiece\n",
        "#!pip install transformers\n",
        "#!pip install sacremoses"
      ]
    },
    {
      "cell_type": "code",
      "source": [
        "from transformers import pipeline\n",
        "from transformers import PegasusForConditionalGeneration, PegasusTokenizer\n",
        "from bs4 import BeautifulSoup\n",
        "import requests"
      ],
      "metadata": {
        "id": "dt_QvTyALK4K"
      },
      "execution_count": null,
      "outputs": []
    },
    {
      "cell_type": "markdown",
      "source": [
        "# Scraping tekstu\n",
        "Pobieramy interesujący nas tekst z podanego URL dzięki wykorzystaniu pakietu BeautifulSoup."
      ],
      "metadata": {
        "id": "XWuY2iIiV82m"
      }
    },
    {
      "cell_type": "code",
      "source": [
        "def fetch_text(url):\n",
        "\n",
        "  r = requests.get(url)\n",
        "  soup = BeautifulSoup(r.text, 'html.parser')\n",
        "  results = soup.find_all(['h1', 'p'])\n",
        "  text = [result.text for result in results]\n",
        "  post = ' '.join(text)\n",
        "\n",
        "  return post"
      ],
      "metadata": {
        "id": "iD30gLlxWK1M"
      },
      "execution_count": null,
      "outputs": []
    },
    {
      "cell_type": "markdown",
      "source": [
        "# Wstępne przetworzenie tekstu\n",
        "Zescrapowany tekst dzielimy na mniejsze bloki zdań o długości do 500 znaków max."
      ],
      "metadata": {
        "id": "O-0p3hzlWqb_"
      }
    },
    {
      "cell_type": "code",
      "source": [
        "def preprocess_text(post):\n",
        "\n",
        "  max_block = 500\n",
        "  post = post.replace('.', '.<eos>')\n",
        "  post = post.replace('?', '?<eos>')\n",
        "  post = post.replace('!', '!<eos>')\n",
        "  sentences = post.split('<eos>')\n",
        "  current_block = 0 \n",
        "  blocks = []\n",
        "  for sentence in sentences:\n",
        "      if len(blocks) == current_block + 1: \n",
        "          if len(blocks[current_block]) + len(sentence.split(' ')) <= max_block:\n",
        "              blocks[current_block].extend(sentence.split(' '))\n",
        "          else:\n",
        "              current_block += 1\n",
        "              blocks.append(sentence.split(' '))\n",
        "      else:\n",
        "          print(current_block)\n",
        "          blocks.append(sentence.split(' '))\n",
        "\n",
        "  for block_id in range(len(blocks)):\n",
        "      blocks[block_id] = ' '.join(blocks[block_id])\n",
        "\n",
        "  return blocks"
      ],
      "metadata": {
        "id": "5SLEw9-7HWfK"
      },
      "execution_count": null,
      "outputs": []
    },
    {
      "cell_type": "markdown",
      "source": [
        "# Tłumaczenie gotowego podsumowania na język polski"
      ],
      "metadata": {
        "id": "kip9oU8x8yIE"
      }
    },
    {
      "cell_type": "code",
      "source": [
        "def translate_to_pl(summary):\n",
        "\n",
        "  translator_pl_to_en = pipeline(\"translation\", model='gsarti/opus-tatoeba-eng-pol')\n",
        "  translation = []\n",
        "\n",
        "  if len(summary) >= 512:\n",
        "    translation_temp = []\n",
        "    parts = [summary[i:i+512] for i in range(0, len(summary), 512)]\n",
        "    translation = [translator_pl_to_en(parts[i]) for i in range(0, len(parts))]\n",
        "    for item in translation:\n",
        "      for key in item:\n",
        "        translation_temp.append(key['translation_text'])\n",
        "    translation = ' '.join(translation_temp)\n",
        "    translation = translation.replace(' .', '.')\n",
        "    translation = translation.replace(' ,', ',')\n",
        "\n",
        "  else:\n",
        "    translation = translator_pl_to_en(summary)\n",
        "    translation = translation[0]\n",
        "    translation = translation['translation_text']\n",
        "\n",
        "  return translation"
      ],
      "metadata": {
        "id": "_rCZk1A95HK-"
      },
      "execution_count": null,
      "outputs": []
    },
    {
      "cell_type": "markdown",
      "source": [
        "# Podejście na podstawie abstrakcji"
      ],
      "metadata": {
        "id": "HBmTol9KWvPE"
      }
    },
    {
      "cell_type": "code",
      "source": [
        "def abstractive_summarization(post):\n",
        "  \n",
        "  tokenizer = PegasusTokenizer.from_pretrained(\"google/pegasus-xsum\")\n",
        "  model = PegasusForConditionalGeneration.from_pretrained(\"google/pegasus-xsum\")\n",
        "\n",
        "  blocks = preprocess_text(post)\n",
        "  tokens = tokenizer(blocks, truncation=True, padding=\"longest\", return_tensors=\"pt\")\n",
        "  result = model.generate(**tokens)\n",
        "\n",
        "  summary = []\n",
        "  for i in range(len(result)):\n",
        "    summary.extend(tokenizer.decode(result[i]))\n",
        "    i += 1\n",
        "\n",
        "  summary = ''.join(summary)\n",
        "  summary = summary.replace('.', '. ')\n",
        "\n",
        "  translation = translate_to_pl(summary)\n",
        "\n",
        "  print('EN: ' + summary + '\\n')\n",
        "  print('PL: ' + translation)\n",
        "  save_results('abstractive_summary', summary, translation)"
      ],
      "metadata": {
        "id": "rPcnanQmH2Qh"
      },
      "execution_count": null,
      "outputs": []
    },
    {
      "cell_type": "markdown",
      "source": [
        "# Podejście na podstawie ekstrakcji"
      ],
      "metadata": {
        "id": "sELZcsSiW-aD"
      }
    },
    {
      "cell_type": "code",
      "source": [
        "def extractive_summarization(post):\n",
        "\n",
        "  summarizer = pipeline(\"summarization\", model = \"sshleifer/distilbart-cnn-12-6\")\n",
        "\n",
        "  blocks = preprocess_text(post)\n",
        "  result = summarizer(blocks, max_length=120, min_length=30, do_sample=False)\n",
        "  summary = ' '.join([sentence['summary_text'] for sentence in result])\n",
        "  summary = summary.replace(' .', '.')\n",
        "\n",
        "  translation = translate_to_pl(summary)\n",
        "\n",
        "  print('EN: ' + summary + '\\n')\n",
        "  print('PL: ' + translation)\n",
        "  save_results('extractive_summary', summary, translation)"
      ],
      "metadata": {
        "id": "VUNFMrB7ITKZ"
      },
      "execution_count": null,
      "outputs": []
    },
    {
      "cell_type": "markdown",
      "source": [
        "# Eksport wyników do zewnętrznego pliku"
      ],
      "metadata": {
        "id": "MxwKYxdmXEOK"
      }
    },
    {
      "cell_type": "code",
      "source": [
        "def save_results(method, result_EN, result_PL):\n",
        "  \n",
        "  with open(method + '.txt', 'w') as f:\n",
        "    f.write(\"EN: \" + \"\\n\")\n",
        "    f.write(result_EN)\n",
        "    f.write(\"\\n\" + \"PL: \" + \"\\n\")\n",
        "    f.write(result_PL)"
      ],
      "metadata": {
        "id": "kDhVvfasLh6U"
      },
      "execution_count": null,
      "outputs": []
    },
    {
      "cell_type": "markdown",
      "source": [
        "# Sumaryzacja tekstu na przykładzie wybranego postu na blogu Hackernoon.com"
      ],
      "metadata": {
        "id": "DhVgJ-TIXQZ2"
      }
    },
    {
      "cell_type": "code",
      "source": [
        "def summarize(url, extractive_approach=False, abstractive_approach=False):\n",
        "\n",
        "  post = fetch_text(url)\n",
        "\n",
        "  if extractive_approach == True:\n",
        "    extractive_summarization(post)\n",
        "  elif abstractive_approach == True:\n",
        "    abstractive_summarization(post)\n",
        "  else:\n",
        "    print(\"ERROR: Summarization method not selected. Please choose extractive or abstractive approach.\")"
      ],
      "metadata": {
        "id": "lOoDOhA2Jpe7"
      },
      "execution_count": null,
      "outputs": []
    },
    {
      "cell_type": "code",
      "source": [
        "URL = \"https://hackernoon.com/what-is-the-impact-of-quantum-computing-on-blockchain-and-cryptocurrency\""
      ],
      "metadata": {
        "id": "f_goEXyEOg5p"
      },
      "execution_count": null,
      "outputs": []
    },
    {
      "cell_type": "code",
      "source": [
        "summarize(URL, abstractive_approach=True)"
      ],
      "metadata": {
        "colab": {
          "base_uri": "https://localhost:8080/"
        },
        "id": "-s0SPFA-KlTs",
        "outputId": "7764dfe8-23c6-43af-876d-f61624062d30"
      },
      "execution_count": null,
      "outputs": [
        {
          "output_type": "stream",
          "name": "stdout",
          "text": [
            "0\n",
            "EN: In this article, I will be looking at the impact of quantum computing on Blockchain and cryptocurrencies. Quantum Computing has the potential to change the way we interact with the world around us. It may take a million qubits to crack 2048-bit RSA encryption, as Google claims.  With 4,099 qubits enough to crack 2048-bit RSA in ten seconds, one may shudder while thinking what a million qubit Google computer could do if introduced by 2029, as Google claims. Blockchain technology was once considered to be a distant dream. \n",
            "\n",
            "PL: W tym artykule, będę patrzeć na wpływ obliczeń kwantowych na Blockchain i kryptowaluta. Quantum Computing ma potencjał, aby zmienić sposób interakcji ze światem wokół nas. Może to wymagać miliona qubits, aby złamać szyfrowanie 2048-bit RSA, jak twierdzi Google. Z 4 099 Qubits wystarczająco, aby złamać 2048-bit RSA w dziesięć sekund, można drżeć, myśląc, co milion Qubit Google komputer może zrobić, jeśli wprowadzony do 2029, jak twierdzi Google. Technologia Blockchain był kiedyś uważany za d Istny sen.\n"
          ]
        }
      ]
    },
    {
      "cell_type": "code",
      "source": [
        "summarize(URL, extractive_approach=True)"
      ],
      "metadata": {
        "colab": {
          "base_uri": "https://localhost:8080/"
        },
        "id": "Z2pgH9X9PuVf",
        "outputId": "798b845f-937d-4077-b578-4428f6852711"
      },
      "execution_count": null,
      "outputs": [
        {
          "output_type": "stream",
          "name": "stdout",
          "text": [
            "0\n",
            "EN:  What is the Impact of Quantum Computing on Cryptocurrency?  never amongst the herd. Quantum computers have shown that they can solve the most advanced mathematical algorithms used in cryptography, the backbone of Bitcoin and cryptocurrencies. Quantum computing can also prove detrimental to today's cryptography standards with its immense speed. IBM developed one of the giant quantum computers known today in 2020 in 2020.  The global Quantum Computing market is estimated to attain $949 million by 2025, displaying a CAGR of 43% between 2020 and 2030. Quantum computers function using the properties of quantum physics for storing data and performing computations that could prove advantageous for tasks impossible for conventional computers and even state-of-the-art supercomputers. The US alone invested $625 million in multidisciplinary Quantum Information Science Research centers in 2020.  Is Bitcoin quantum-safe?  Are the current Quantum computers a threat to Bitcoin? As of date, they are not, but one cannot say about the future. With 4,099 qubits enough to crack 2048-bit RSA in ten seconds, one may shudder while thinking what a million qubit Google computer could do if introduced by 2029, as Google claims.  DWS Holdings Inc. suggests that Quantum Computing may not happen in the near future. Instead of viewing Quantum Computing as a threat, blockchains must use its potential and possibilities to improve their cryptography and enhance security to higher levels.\n",
            "\n",
            "PL: Co to jest wpływ Quantum Computing na kryptowaluta? nigdy wśród stada. Komputery kwantowe pokazały, że mogą rozwiązać najbardziej zaawansowane algorytmy matematyczne stosowane w kryptografii, kręgosłup Bitcoin i kryptowaluta. Quantum Computing może również okazać się szkodliwe dla dzisiejszych standardów kryptograficznych z ogromną prędkością. IBM opracował jeden z gigantycznych komputerów kwantowych znanych dziś w 2020 roku. Globalny rynek Quantum Computing szacuje się na 949 milionów dolarów do 2025 roku, Displ aying CAGR 43% między 2020 a 2030. Komputery kwantowe działają przy użyciu właściwości fizyki kwantowej do przechowywania danych i wykonywania obliczeń, które mogą okazać się korzystne dla zadań niemożliwych dla komputerów konwencjonalnych, a nawet najnowocześniejszych superkomputerów. USA zainwestowały 625 milionów dolarów w multidyscyplinarne Centra Informacji Quantum Science Research w 2020 roku. Czy Bitcoin kwantowy jest bezpieczny? Czy obecne komputery kwantowe są zagrożeniem Bitcoin? Na dzień dzisiejszy, nie są one, ale nie można powiedzieć, o przyszłości. Z 4 099 qubits wystarczające do złamania 2048-bit RSA w dziesięć sekund, można drżeć, myśląc, co milion qubit Google komputer może zrobić, jeśli wprowadzone do 2029, jak twierdzi Google. DWS Holdings Inc. sugeruje, że Quantum Computing nie może zdarzyć się w najbliższej przyszłości. Zamiast postrzegać Quantum Computing jako zagrożenie, blockchains musi wykorzystać swój potencjał i możliwości, aby poprawić ich kryptografię i zwiększyć bezpieczeństwo do wyższych poziomów.\n"
          ]
        }
      ]
    },
    {
      "cell_type": "markdown",
      "source": [
        "Oryginalny tekst artykułu zawierał 1577 słów.\n",
        "\n",
        "Po zastosowaniu podejścia na podstawie abstrakcji tekst został skrócony do 91 słów. Co więcej, podsumowanie składa się w większości z zupełnie nowych zdań, których oryginalnie nie sposób znaleźć w tekście źródłowym. Jest to oczekiwany rezultat przy zastosowaniu tej metody, która odzwierciedla naturalny sposób w jaki człowiek sam tworzy podsumowania.\n",
        "\n",
        "Po zastosowaniu podejścia na podstawie ekstrakcji tekst został skrócony do 231 słów. Podsumowanie (w przeciwieństwie do podejścia abstrakcyjnego) składa się ze zdań, które znajdują się w tekście źródłowym. Te zdania, które ostatecznie trafiły do podsumowania są teoretycznie zdaniami najważniejszymi pod względem semantycznym, a zatem w teorii najlepiej ujmują główny sens całego tekstu."
      ],
      "metadata": {
        "id": "h2PRS304_XmC"
      }
    }
  ]
}